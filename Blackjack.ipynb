{
 "cells": [
  {
   "cell_type": "code",
   "execution_count": 1,
   "id": "5a2fc81a-b626-42bf-8641-5f38066c703c",
   "metadata": {},
   "outputs": [
    {
     "name": "stdout",
     "output_type": "stream",
     "text": [
      "\n",
      "****************************************************************\n",
      "                     WELCOME TO BLACKJACK                         \n",
      "\n",
      "****************************************************************\n",
      "\n",
      "----------------------------Rule--------------------------------\n",
      "HIT : to get more card that will add up to a bigger number\n",
      "First, you will get two cards that will add up to a whole number, then you have the option to hit or stand\n",
      "STAND: Confirm the sum of your cards\n",
      "This is two player game between Computer(Dealer) and Player\n",
      "Dealer also gets to have two cards, if their cards less than 17, then they have to get more cards\n",
      "Who get highest point will win (point from 16 - 21. But be careful, if your sum or dealer sum is over 21, you/ dealer will bust/lose\n",
      "---------------------------------------------------------------------\n"
     ]
    },
    {
     "name": "stdin",
     "output_type": "stream",
     "text": [
      "Do you want to play game (y: yes or n: no) n\n"
     ]
    },
    {
     "name": "stdout",
     "output_type": "stream",
     "text": [
      "Thank you, bye bye\n"
     ]
    }
   ],
   "source": [
    "import random\n",
    "#create empty deck \n",
    "deck = []\n",
    "#suits of cards\n",
    "suit = ['Hearts', 'Diamonds', 'Clubs', 'Spades']\n",
    "#ranks of cards \n",
    "rank = ['2', '3', '4', '5', '6', '7', '8', '9', '10', 'Jack', 'Queen', 'King', 'Ace']\n",
    "#playing = True \n",
    "#add cards to deck (52 cards) \n",
    "for suit in suit: \n",
    "    for i in range(13): \n",
    "        deck.append(f\"{rank[i]} of {suit}\")  \n",
    "\n",
    "cardValues = { '2': 2, '3': 3, '4': 4, '5': 5, '6': 6, '7': 7, '8': 8, '9': 9, '10': 10, \n",
    "'Jack': 10, 'Queen': 10, 'King': 10,'Ace': 11}\n",
    "\n",
    "#calculate the total value of hand\n",
    "def totalHand(hand):\n",
    "    points = 0\n",
    "    aces = 0\n",
    "    for card in hand:\n",
    "        if card.split()[0] == 'Ace':\n",
    "            points += 11\n",
    "            aces += 1\n",
    "        elif card.split()[0] in ['Jack', 'Queen', 'King']:\n",
    "            points += 10\n",
    "        else:\n",
    "            points += int(card.split()[0])\n",
    "    while points > 21 and aces > 0:\n",
    "        points -= 10\n",
    "        aces -= 1\n",
    "    return points\n",
    "\n",
    "#deal a card\n",
    "def dealCard():\n",
    "    return deck.pop()\n",
    "\n",
    "#shuffle card\n",
    "def shuffleCard():\n",
    "    random.shuffle(deck)\n",
    "    \n",
    "def play(): \n",
    "    gameOver = False \n",
    "    while not gameOver:\n",
    "        shuffleCard()\n",
    "        playerHand = [] \n",
    "        dealerHand = [] \n",
    "        \n",
    "        #create two cards to player\n",
    "        while len(playerHand) != 2: \n",
    "            playerHand.append(dealCard())\n",
    "            if len(playerHand) == 2: \n",
    "                print(f\"Player  {playerHand}, current score: {totalHand(playerHand)}\")\n",
    "        #create one card to dealer\n",
    "        while len(dealerHand) != 1:\n",
    "            dealerHand.append(dealCard())\n",
    "            print(f\"Dealer deals a {dealerHand[0]}and a face down card, current score: {totalHand(dealerHand)} \")\n",
    "\n",
    "        choice = \" \"\n",
    "        #ask player want to Hit or Stand \n",
    "        while totalHand(playerHand) < 21 and choice not in [\"S\", \"stand\"]:\n",
    "            choice = input(\"Would you like to Hit (H) or Stand (S)\") \n",
    "            if  choice == 'H' or choice == 'h':\n",
    "                #add 1 card to player's hand\n",
    "                playerHand.append(dealCard())\n",
    "                print(f\"Player final cards are : {playerHand}\")\n",
    "                print (f\"{totalHand(playerHand)} points\")\n",
    "            elif choice == 'S' or choice == 's':\n",
    "                break\n",
    "            else:\n",
    "                gameOver = True\n",
    "                print(\"Wrong command, try again\") \n",
    "        \n",
    "        #if dealer's hand <= 16, add one card to dealer's hand \n",
    "        while totalHand(dealerHand) <= 16:\n",
    "            dealerHand.append(dealCard())\n",
    "            print(f\"Dealer's hand: {dealerHand}, final score: {totalHand(dealerHand)}\")\n",
    "            \n",
    "           #got 2 cards and one is Ace card  \n",
    "        if totalHand(playerHand) == 21 and len(playerHand) == 2 and (playerHand[i.split()[0]] == 'Ace' for i in playerHand):\n",
    "            print(\"You have BLACKJACK! You win!\") \n",
    "              #got 2 cards and one is Ace card \n",
    "        elif totalHand(dealerHand) == 21 and (dealerHand[i.split()[0]] == 'Ace' for i in dealerHand): \n",
    "            print(\"Dealer has BLACKJACK! Dealer wins!\")\n",
    "            #got 5 cards  \n",
    "        elif len(playerHand) == 5 and totalHand(playerHand) <= 21:  \n",
    "            print(\"Player : Magic Five! You win\") \n",
    "        elif len(dealerHand) == 5 and totalHand(dealerHand) <= 21:\n",
    "            print(\"Dealer: Magic Five! You win\") \n",
    "            #cards out of range \n",
    "        elif totalHand(playerHand) > 21 and totalHand(dealerHand) < 21: \n",
    "            print (\"You busted! Dealer wins!\")\n",
    "            #cards out of range \n",
    "        elif totalHand(dealerHand) > 21 and totalHand(playerHand) < 21: \n",
    "            print (\"Dealer busted! You win!\")\n",
    "            #player's card < dealer's card -> dealer wins \n",
    "        elif abs(21 - totalHand(playerHand)) > abs(21 - totalHand(dealerHand)):\n",
    "            print(\"Dealer wins!\") \n",
    "             #dealer's card < player's card -> player wins\n",
    "        elif abs(21 - totalHand(dealerHand)) > abs(21 - totalHand(playerHand)):\n",
    "            print (\"Player wins!\") \n",
    "            #both dealer and player's card are equal \n",
    "        elif totalHand(dealerHand) == totalHand(playerHand): \n",
    "            print(\"It's a draw\") \n",
    "        gameOver = True\n",
    "    main()\n",
    "\n",
    "\n",
    "print(\"\\n****************************************************************\")\n",
    "print(\"                     WELCOME TO BLACKJACK                         \") \n",
    "print(\"\\n****************************************************************\\n\")\n",
    "print(\"----------------------------Rule--------------------------------\")\n",
    "print(\"HIT : to get more card that will add up to a bigger number\")\n",
    "print(\"First, you will get two cards that will add up to a whole number, then you have the option to hit or stand\")\n",
    "print(\"STAND: Confirm the sum of your cards\")\n",
    "print(\"This is two player game between Computer(Dealer) and Player\")\n",
    "print(\"Dealer also gets to have two cards, if their cards less than 17, then they have to get more cards\")\n",
    "print(\"Who get highest point will win (point from 16 - 21. But be careful, if your sum or dealer sum is over 21, you/ dealer will bust/lose\") \n",
    "print(\"---------------------------------------------------------------------\")\n",
    "\n",
    "def main():\n",
    "    #ask user to input y to play game, n to exit\n",
    "    playGame = input(\"Do you want to play game (y: yes or n: no)\")\n",
    "    if playGame.lower() == 'y' or playGame.upper() == 'Y':\n",
    "        play()\n",
    "    else:\n",
    "        #exit\n",
    "        print(\"Thank you, bye bye\") \n",
    "main()\n"
   ]
  },
  {
   "cell_type": "code",
   "execution_count": 3,
   "id": "9b22c152-a83d-4d56-aadb-3aa2757b73f8",
   "metadata": {},
   "outputs": [
    {
     "name": "stdout",
     "output_type": "stream",
     "text": [
      "Win rate of player by having blackjack = 4.1 %\n",
      "Win ratenof dealer by having blackjack = 5.83 %\n"
     ]
    }
   ],
   "source": [
    "#Simulation for win by BlackJack \n",
    "import random\n",
    "N=10000\n",
    "BJPC=0 # win count for player by blackjack\n",
    "BJDC=0 # win count for dealer by blackjack\n",
    "for i in range(N):\n",
    "    deck2 = []   #create empty deck\n",
    "    suit = ['Hearts', 'Diamonds', 'Clubs', 'Spades'] #suits of cards\n",
    "    rank = ['2', '3', '4', '5', '6', '7', '8', '9', '10', 'Jack', 'Queen', 'King', 'Ace'] #ranks of cards \n",
    "    for suit in suit: \n",
    "        for r in range(13): \n",
    "            deck2.append(f\"{rank[r]} of {suit}\") #add cards to deck (52 cards)\n",
    "    cardValues = { '2': 2, '3': 3, '4': 4, '5': 5, '6': 6, '7': 7, '8': 8, '9': 9, '10': 10,'Jack': 10, 'Queen': 10, 'King': 10,'Ace': 11}\n",
    "    random.shuffle(deck2) # shuffle the deck\n",
    "    playerHand = [] \n",
    "    dealerHand = []      \n",
    "#create two cards to player\n",
    "    while len(playerHand) != 2: \n",
    "        playerHand.append(deck2.pop())\n",
    "\n",
    "#create one card to dealer\n",
    "    while len(dealerHand) != 1:\n",
    "        dealerHand.append(deck2.pop())\n",
    "                \n",
    "#if dealer's hand <= 16, add one card to dealer's hand \n",
    "    while totalHand(dealerHand) <= 16:\n",
    "        dealerHand.append(deck2.pop())\n",
    "\n",
    "#draw is excluded\n",
    "    if 21 - totalHand(playerHand) != 21 - totalHand(dealerHand):\n",
    "    #got 2 cards and one is Ace card  \n",
    "        if totalHand(playerHand) == 21 and len([card for card in playerHand if card.split()[0] == 'Ace']) == 1:\n",
    "            BJPC += 1\n",
    "    #got 2 cards and one is Ace card \n",
    "        elif totalHand(dealerHand) == 21 and len([card for card in dealerHand if card.split()[0] == 'Ace']) == 1: \n",
    "            BJDC += 1\n",
    "        \n",
    "\n",
    "print(\"Win rate of player by having blackjack =\",BJPC*100/N, \"%\")\n",
    "print(\"Win ratenof dealer by having blackjack =\",BJDC*100/N, \"%\")"
   ]
  },
  {
   "cell_type": "code",
   "execution_count": 6,
   "id": "2906e3b9-efb8-4c9c-9a12-c146d07a7096",
   "metadata": {},
   "outputs": [
    {
     "name": "stdout",
     "output_type": "stream",
     "text": [
      "Win rate of player by having blackjack = 4.4 %\n",
      "Win ratenof dealer by having blackjack = 6.25 %\n"
     ]
    },
    {
     "data": {
      "image/png": "[encoded data removed]",
      "text/plain": [
       "<Figure size 432x288 with 1 Axes>"
      ]
     },
     "metadata": {
      "needs_background": "light"
     },
     "output_type": "display_data"
    }
   ],
   "source": [
    "#Visual representation for Simulation for win by BlackJack \n",
    "import random\n",
    "import matplotlib.pyplot as plt\n",
    "\n",
    "N = 10000\n",
    "BJPC = 0 # win count for player by blackjack\n",
    "BJDC = 0 # win count for dealer by blackjack\n",
    "\n",
    "for i in range(N):\n",
    "    deck2 = []   #create empty deck\n",
    "    suit = ['Hearts', 'Diamonds', 'Clubs', 'Spades'] #suits of cards\n",
    "    rank = ['2', '3', '4', '5', '6', '7', '8', '9', '10', 'Jack', 'Queen', 'King', 'Ace'] #ranks of cards \n",
    "    for suit in suit: \n",
    "        for r in range(13): \n",
    "            deck2.append(f\"{rank[r]} of {suit}\") #add cards to deck (52 cards)\n",
    "    cardValues = { '2': 2, '3': 3, '4': 4, '5': 5, '6': 6, '7': 7, '8': 8, '9': 9, '10': 10,'Jack': 10, 'Queen': 10, 'King': 10,'Ace': 11}\n",
    "    random.shuffle(deck2) # shuffle the deck\n",
    "    playerHand = [] \n",
    "    dealerHand = []      \n",
    "\n",
    "    #create two cards for player\n",
    "    while len(playerHand) != 2: \n",
    "        playerHand.append(deck2.pop())\n",
    "\n",
    "    #create one card for dealer\n",
    "    while len(dealerHand) != 1:\n",
    "        dealerHand.append(deck2.pop())\n",
    "                \n",
    "    #if dealer's hand <= 16, add one card to dealer's hand \n",
    "    while totalHand(dealerHand) <= 16:\n",
    "        dealerHand.append(deck2.pop())\n",
    "\n",
    "    #draw is excluded\n",
    "    if 21 - totalHand(playerHand) != 21 - totalHand(dealerHand):\n",
    "        #got 2 cards and one is Ace card  \n",
    "        if totalHand(playerHand) == 21 and len([card for card in playerHand if card.split()[0] == 'Ace']) == 1:\n",
    "            BJPC += 1\n",
    "        #got 2 cards and one is Ace card \n",
    "        elif totalHand(dealerHand) == 21 and len([card for card in dealerHand if card.split()[0] == 'Ace']) == 1: \n",
    "            BJDC += 1\n",
    "\n",
    "print(\"Win rate of player by having blackjack =\",BJPC*100/N, \"%\")\n",
    "print(\"Win ratenof dealer by having blackjack =\",BJDC*100/N, \"%\")\n",
    "# Plot the line graph\n",
    "y = BJPC/N*100\n",
    "y1 = BJDC/N*100\n",
    "#labels = ['Player', 'Dealer']\n",
    "plt.bar(\"Player\", y)\n",
    "plt.bar(\"Dealer\", y1)\n",
    "##plt.xlabel('Player')\n",
    "plt.ylabel('Blackjack win rate (%)')\n",
    "plt.title('Blackjack win rate for player and dealer')\n",
    "plt.show()\n"
   ]
  },
  {
   "cell_type": "code",
   "execution_count": 8,
   "id": "16c05dd9-971d-4e74-aa38-d352b5f1ab2a",
   "metadata": {},
   "outputs": [
    {
     "name": "stdout",
     "output_type": "stream",
     "text": [
      "Win rate of player by having 21 points in hand = 14.74 %\n",
      "Win rateof dealer by having 21 points in hand = 15.16 %\n"
     ]
    }
   ],
   "source": [
    "#Simulation for win by having 21 points in hand\n",
    "import random\n",
    "N=10000\n",
    "PC21=0 # win count for player by having 21 points in hand\n",
    "DC21=0 # win count for dealer by having 21 points in hand\n",
    "for i in range(N):\n",
    "    deck2 = []   #create empty deck\n",
    "    suit = ['Hearts', 'Diamonds', 'Clubs', 'Spades'] #suits of cards\n",
    "    rank = ['2', '3', '4', '5', '6', '7', '8', '9', '10', 'Jack', 'Queen', 'King', 'Ace'] #ranks of cards \n",
    "    for suit in suit: \n",
    "        for r in range(13): \n",
    "            deck2.append(f\"{rank[r]} of {suit}\") #add cards to deck (52 cards)\n",
    "    cardValues = { '2': 2, '3': 3, '4': 4, '5': 5, '6': 6, '7': 7, '8': 8, '9': 9, '10': 10,'Jack': 10, 'Queen': 10, 'King': 10,'Ace': 11}\n",
    "    random.shuffle(deck2) # shuffle the deck\n",
    "    playerHand = [] \n",
    "    dealerHand = []      \n",
    "#create two cards to player\n",
    "    while len(playerHand) != 2: \n",
    "        playerHand.append(deck2.pop())\n",
    "\n",
    "#create one card to dealer\n",
    "    while len(dealerHand) != 1:\n",
    "        dealerHand.append(deck2.pop())\n",
    "\n",
    "# add one card to player's hand until >=21       \n",
    "    while totalHand(playerHand) < 21:\n",
    "        playerHand.append(deck2.pop())     \n",
    "                \n",
    "# add one card to dealer's hand until >=21\n",
    "    while totalHand(dealerHand) < 21:\n",
    "        dealerHand.append(deck2.pop())\n",
    "        \n",
    "#draw is excluded\n",
    "    if 21 - totalHand(playerHand) != 21 - totalHand(dealerHand):                        \n",
    "        # player got 21 points  \n",
    "        if totalHand(playerHand) == 21:\n",
    "            PC21 += 1\n",
    "        # dealer got 21 points \n",
    "        elif totalHand(dealerHand) == 21: \n",
    "            DC21 += 1\n",
    "        \n",
    "\n",
    "print(\"Win rate of player by having 21 points in hand =\",PC21*100/N, \"%\")\n",
    "print(\"Win rateof dealer by having 21 points in hand =\",DC21*100/N, \"%\")"
   ]
  },
  {
   "cell_type": "code",
   "execution_count": 91,
   "id": "2b07f487-51d8-4cb0-9708-e17eab1f08e4",
   "metadata": {},
   "outputs": [
    {
     "data": {
      "image/png": "[encoded data removed]",
      "text/plain": [
       "<Figure size 432x288 with 1 Axes>"
      ]
     },
     "metadata": {
      "needs_background": "light"
     },
     "output_type": "display_data"
    }
   ],
   "source": [
    "#Visual representation for Simulation for win by having 21 points in hand\n",
    "import random\n",
    "import matplotlib.pyplot as plt\n",
    "\n",
    "\n",
    "N = 10000\n",
    "PC21 = 0\n",
    "DC21 = 0\n",
    "\n",
    "playerWinRates = []\n",
    "dealerWinRates = []\n",
    "\n",
    "for n in range(N):\n",
    "    \n",
    "    deck2 = []   #create empty deck\n",
    "    suit = ['Hearts', 'Diamonds', 'Clubs', 'Spades'] #suits of cards\n",
    "    rank = ['2', '3', '4', '5', '6', '7', '8', '9', '10', 'Jack', 'Queen', 'King', 'Ace'] #ranks of cards \n",
    "    for suit in suit: \n",
    "        for r in range(13): \n",
    "            deck2.append(f\"{rank[r]} of {suit}\") #add cards to deck (52 cards)\n",
    "    cardValues = { '2': 2, '3': 3, '4': 4, '5': 5, '6': 6, '7': 7, '8': 8, '9': 9, '10': 10,'Jack': 10, 'Queen': 10, 'King': 10,'Ace': 11}\n",
    "    random.shuffle(deck2) # shuffle the deck\n",
    "    playerHand = [] \n",
    "    dealerHand = []      \n",
    "#create two cards to player\n",
    "    while len(playerHand) != 2: \n",
    "        playerHand.append(deck2.pop())\n",
    "\n",
    "#create one card to dealer\n",
    "    while len(dealerHand) != 1:\n",
    "        dealerHand.append(deck2.pop())\n",
    "\n",
    "# add one card to player's hand until >=21       \n",
    "    while totalHand(playerHand) < 21:\n",
    "        playerHand.append(deck2.pop())     \n",
    "                \n",
    "# add one card to dealer's hand until >=21\n",
    "    while totalHand(dealerHand) < 21:\n",
    "        dealerHand.append(deck2.pop())\n",
    "        \n",
    "#draw is excluded\n",
    "    if 21 - totalHand(playerHand) != 21 - totalHand(dealerHand):                        \n",
    "        # player got 21 points  \n",
    "        if totalHand(playerHand) == 21:\n",
    "            PC21 += 1\n",
    "        # dealer got 21 points \n",
    "        elif totalHand(dealerHand) == 21: \n",
    "            DC21 += 1\n",
    "#graph\n",
    "    playerWinRate = PC21*100/N\n",
    "    dealerWinRate = DC21*100/N\n",
    "\n",
    "    playerWinRates.append(playerWinRate)\n",
    "    dealerWinRates.append(dealerWinRate)\n",
    "\n",
    "plt.plot(playerWinRates, label=\"Player Win Rate\")\n",
    "plt.plot(dealerWinRates, label=\"Dealer Win Rate\")\n",
    "plt.xlabel(\"Number of games\")\n",
    "plt.ylabel(\"Win rate (%)\")\n",
    "plt.legend()\n",
    "plt.show()"
   ]
  },
  {
   "cell_type": "code",
   "execution_count": 11,
   "id": "50edbdb4-9759-4d36-bd9b-68789767814c",
   "metadata": {},
   "outputs": [
    {
     "data": {
      "image/png": "[encoded data removed]",
      "text/plain": [
       "<Figure size 432x288 with 1 Axes>"
      ]
     },
     "metadata": {
      "needs_background": "light"
     },
     "output_type": "display_data"
    },
    {
     "data": {
      "image/png": "[encoded data removed]",
      "text/plain": [
       "<Figure size 432x288 with 1 Axes>"
      ]
     },
     "metadata": {
      "needs_background": "light"
     },
     "output_type": "display_data"
    }
   ],
   "source": [
    "#Players's win rate\n",
    "#Visual representation for Simulation for Players win by having 21 points in hand\n",
    "#Dealer's win rate\n",
    "#Visual representation for Simulation for Dealers win by having 21 points in hand\n",
    "\n",
    "import matplotlib.pyplot as plt\n",
    "import random\n",
    "\n",
    "N = 10000\n",
    "PC21 = 0\n",
    "DC21 = 0\n",
    "\n",
    "playerWinRates = []\n",
    "dealerWinRates=[]\n",
    "\n",
    "for n in range(N):\n",
    "    deck2 = []   #create empty deck\n",
    "    suit = ['Hearts', 'Diamonds', 'Clubs', 'Spades'] #suits of cards\n",
    "    rank = ['2', '3', '4', '5', '6', '7', '8', '9', '10', 'Jack', 'Queen', 'King', 'Ace'] #ranks of cards \n",
    "    for suit in suit: \n",
    "        for r in range(13): \n",
    "            deck2.append(f\"{rank[r]} of {suit}\") #add cards to deck (52 cards)\n",
    "    cardValues = { '2': 2, '3': 3, '4': 4, '5': 5, '6': 6, '7': 7, '8': 8, '9': 9, '10': 10,'Jack': 10, 'Queen': 10, 'King': 10,'Ace': 11}\n",
    "    random.shuffle(deck2) # shuffle the deck\n",
    "    playerHand = [] \n",
    "    dealerHand = []      \n",
    "#create two cards to player\n",
    "    while len(playerHand) != 2: \n",
    "        playerHand.append(deck2.pop())\n",
    "\n",
    "#create one card to dealer\n",
    "    while len(dealerHand) != 1:\n",
    "        dealerHand.append(deck2.pop())\n",
    "\n",
    "# add one card to player's hand until >=21       \n",
    "    while totalHand(playerHand) < 21:\n",
    "        playerHand.append(deck2.pop())     \n",
    "                \n",
    "# add one card to dealer's hand until >=21\n",
    "    while totalHand(dealerHand) < 21:\n",
    "        dealerHand.append(deck2.pop())\n",
    "        \n",
    "#draw is excluded\n",
    "    if 21 - totalHand(playerHand) != 21 - totalHand(dealerHand):                        \n",
    "        # player got 21 points  \n",
    "        if totalHand(playerHand) == 21:\n",
    "            PC21 += 1\n",
    "        # dealer got 21 points \n",
    "        elif totalHand(dealerHand) == 21: \n",
    "            DC21 += 1\n",
    "#graph\n",
    "    \n",
    "\n",
    "    PlayerWinRate = PC21*100/N\n",
    "    dealerWinRate = DC21*100/N\n",
    "\n",
    "\n",
    "# Create a bar chart for dealer\n",
    "x = ['Dealer cards with 21 in hand']\n",
    "y = [dealerWinRate]\n",
    "plt.bar(x, y)\n",
    "\n",
    "#  chart title and axes labels\n",
    "plt.title(\"Dealer's win rate\")\n",
    "plt.xlabel(\"Dealer\")\n",
    "plt.ylabel(\"Win rate %\")\n",
    "\n",
    "# Display the chart\n",
    "plt.show()\n",
    "plt.clf()\n",
    "#Players's win rate\n",
    "#Visual representation for Simulation for Players win by having 21 points in hand\n",
    "# Create a chart for player\n",
    "x = ['player cards with 21 in hand']\n",
    "y = [PlayerWinRate]\n",
    "plt.bar(x, y)\n",
    "\n",
    "#  chart title and axes labels\n",
    "plt.title(\"Player's win rate\")\n",
    "plt.xlabel(\"Player\")\n",
    "plt.ylabel(\"Win rate %\")\n",
    "\n",
    "# Display the chart\n",
    "plt.show()\n"
   ]
  },
  {
   "cell_type": "code",
   "execution_count": 4,
   "id": "b06a08c5-0b62-4d60-a8cd-a6154b5041e5",
   "metadata": {},
   "outputs": [
    {
     "name": "stdout",
     "output_type": "stream",
     "text": [
      "Win rate of player when player have desired points = {17: 21.19, 18: 24.52, 19: 22.1, 20: 18.58} %\n",
      "Win rate of dealer if player have desired points = {17: 21.21, 18: 13.75, 19: 8.09, 20: 3.89} %\n"
     ]
    }
   ],
   "source": [
    "#Simulation for player's win rate when they have desired points: 17,18,19,20\n",
    "def simu(number):\n",
    "    import random\n",
    "    N=10000\n",
    "    wcp={17:0,18:0,19:0,20:0} # win count for player  \n",
    "    wcd={17:0,18:0,19:0,20:0} # win count for dealer\n",
    "    PvD=[wcp,wcd] # list for saving win count for player and dealer\n",
    "    for i in range(N):\n",
    "        deck2 = []   #create empty deck\n",
    "        suit = ['Hearts', 'Diamonds', 'Clubs', 'Spades'] #suits of cards\n",
    "        rank = ['2', '3', '4', '5', '6', '7', '8', '9', '10', 'Jack', 'Queen', 'King', 'Ace'] #ranks of cards \n",
    "        for suit in suit: \n",
    "            for r in range(13): \n",
    "                deck2.append(f\"{rank[r]} of {suit}\") #add cards to deck (52 cards)\n",
    "        cardValues = { '2': 2, '3': 3, '4': 4, '5': 5, '6': 6, '7': 7, '8': 8, '9': 9, '10': 10,'Jack': 10, 'Queen': 10, 'King': 10,'Ace': 11}\n",
    "        random.shuffle(deck2) # shuffle the deck\n",
    "        playerHand = [] \n",
    "        dealerHand = []      \n",
    "#create two cards to player\n",
    "        while len(playerHand) != 2: \n",
    "            playerHand.append(deck2.pop())\n",
    "#create one card to dealer\n",
    "        while len(dealerHand) != 1:\n",
    "            dealerHand.append(deck2.pop())\n",
    "        \n",
    "#if player's hand  < desired number, add one card to player's hand        \n",
    "        while totalHand(playerHand) < number:\n",
    "            playerHand.append(deck2.pop())\n",
    "#if dealer's hand  < 17, add one card to dealer's hand \n",
    "        while totalHand(dealerHand) < 17:\n",
    "            dealerHand.append(deck2.pop())\n",
    "            \n",
    "#draw is excluded\n",
    "        if 21 - totalHand(playerHand) != 21 - totalHand(dealerHand):\n",
    "        # player win by magic five or closer to 21 than dealer\n",
    "            if (len(playerHand) == 5 and totalHand(playerHand) <= 21) or ((21 - totalHand(dealerHand) > 21 - totalHand(playerHand)) and totalHand(playerHand)<22):  \n",
    "                wcp[number]+=1   \n",
    "        # dealer win by magic five or closer to 21 than player        \n",
    "            if (len(dealerHand) == 5 and totalHand(dealerHand) <= 21) or ((21 - totalHand(playerHand) > 21 - totalHand(dealerHand)) and totalHand(dealerHand)<22):  \n",
    "                wcd[number]+=1\n",
    "    PvD=[wcp,wcd]\n",
    "    return PvD\n",
    "\n",
    "\n",
    "WCP={17:0,18:0,19:0,20:0}\n",
    "WCD={17:0,18:0,19:0,20:0}\n",
    "WCP[17]=simu(17)[0][17]*100/N\n",
    "WCP[18]=simu(18)[0][18]*100/N\n",
    "WCP[19]=simu(19)[0][19]*100/N\n",
    "WCP[20]=simu(20)[0][20]*100/N\n",
    "WCD[17]=simu(17)[1][17]*100/N\n",
    "WCD[18]=simu(18)[1][18]*100/N\n",
    "WCD[19]=simu(19)[1][19]*100/N\n",
    "WCD[20]=simu(20)[1][20]*100/N\n",
    "print(\"Win rate of player when player have desired points =\",WCP, \"%\")\n",
    "print(\"Win rate of dealer if player have desired points =\",WCD, \"%\")"
   ]
  },
  {
   "cell_type": "code",
   "execution_count": 5,
   "id": "13dced64-76fc-4027-b067-72219fb26665",
   "metadata": {},
   "outputs": [
    {
     "data": {
      "image/png": "[encoded data removed]",
      "text/plain": [
       "<Figure size 432x288 with 1 Axes>"
      ]
     },
     "metadata": {
      "needs_background": "light"
     },
     "output_type": "display_data"
    }
   ],
   "source": [
    "import random\n",
    "import matplotlib.pyplot as plt\n",
    "#Win rate for Simulation for player's win rate when they have desired points: 17,18,19,20\n",
    "\n",
    "N = 10000\n",
    "WCP = {}\n",
    "WCD = {}\n",
    "\n",
    "for numberOfCards in [17, 18, 19, 20]:\n",
    "    PvD = simu(numberOfCards)\n",
    "    WCP[numberOfCards] = PvD[0][numberOfCards] * 100 / N\n",
    "    WCD[numberOfCards] = PvD[1][numberOfCards] * 100 / N\n",
    "\n",
    "# Plot the graph\n",
    "plt.plot(list(WCP.keys()), list(WCP.values()), label=\"Player\")\n",
    "plt.plot(list(WCD.keys()), list(WCD.values()), label=\"Dealer\")\n",
    "plt.xlabel(\"Cards in hand(Player's desired points)\")\n",
    "plt.ylabel(\"Win Rate (%)\")\n",
    "plt.title(\"Win Rates of Player and Dealer\")\n",
    "plt.legend()\n",
    "\n",
    "plt.show()\n",
    "\n",
    "\n"
   ]
  },
  {
   "cell_type": "code",
   "execution_count": 18,
   "id": "1d63f70f-2e37-4054-9e69-970d84902188",
   "metadata": {},
   "outputs": [
    {
     "data": {
      "image/png": "[encoded data removed]",
      "text/plain": [
       "<Figure size 432x288 with 1 Axes>"
      ]
     },
     "metadata": {
      "needs_background": "light"
     },
     "output_type": "display_data"
    }
   ],
   "source": [
    "#Visualization\n",
    "#Player's win rate\n",
    "#Win rate for Simulation for player's win rate when they have desired points: 17,18,19,20\n",
    "import matplotlib.pyplot as plt\n",
    "\n",
    "x = [17,18,19,20]\n",
    "y = [WCP[17], WCP[18], WCP[19], WCP[20]]\n",
    "\n",
    "plt.title('Win probability of Player')\n",
    "plt.xlabel(\"Cards in hand(Player's desired points)\")\n",
    "plt.ylabel('Win rates(%)')\n",
    "plt.bar(x,y)\n",
    "plt.show()\n",
    "\n",
    "\n",
    "\n",
    "\n",
    "\n"
   ]
  },
  {
   "cell_type": "code",
   "execution_count": 19,
   "id": "d9e6c035-2ad8-40ac-8749-eefce1f66b47",
   "metadata": {},
   "outputs": [
    {
     "data": {
      "image/png": "[encoded data removed]",
      "text/plain": [
       "<Figure size 432x288 with 1 Axes>"
      ]
     },
     "metadata": {
      "needs_background": "light"
     },
     "output_type": "display_data"
    }
   ],
   "source": [
    "#Visualization\n",
    "#Dealer's win rate\n",
    "#Win rate for Simulation for dealer's win rate when they have desired points: 17,18,19,20\n",
    "import matplotlib.pyplot as plt\n",
    "\n",
    "x = [17,18,19,20]\n",
    "y = [WCD[17], WCD[18], WCD[19], WCD[20]]\n",
    "\n",
    "plt.title('Win probability')\n",
    "plt.xlabel(\"Cards in hand(Player's desired points)\")\n",
    "plt.ylabel('Win rates')\n",
    "plt.bar(x,y)\n",
    "plt.show()"
   ]
  },
  {
   "cell_type": "code",
   "execution_count": 92,
   "id": "322fdfb6-d9ee-4214-984e-6995ede95ac3",
   "metadata": {},
   "outputs": [
    {
     "name": "stdout",
     "output_type": "stream",
     "text": [
      "Win rate of player by having blackjack = 12.22 %\n",
      "Win rateof dealer by having blackjack = 13.06 %\n"
     ]
    }
   ],
   "source": []
  }
 ],
 "metadata": {
  "kernelspec": {
   "display_name": "Python 3 (ipykernel)",
   "language": "python",
   "name": "python3"
  },
  "language_info": {
   "codemirror_mode": {
    "name": "ipython",
    "version": 3
   },
   "file_extension": ".py",
   "mimetype": "text/x-python",
   "name": "python",
   "nbconvert_exporter": "python",
   "pygments_lexer": "ipython3",
   "version": "3.8.12"
  }
 },
 "nbformat": 4,
 "nbformat_minor": 5
}
